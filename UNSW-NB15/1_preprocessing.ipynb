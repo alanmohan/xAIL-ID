{
 "cells": [
  {
   "cell_type": "code",
   "execution_count": 1,
   "metadata": {},
   "outputs": [],
   "source": [
    "import pandas as pd\n",
    "import numpy as np\n",
    "import pandas as pd\n",
    "import numpy as np\n",
    "import matplotlib.pyplot as plt \n",
    "import time"
   ]
  },
  {
   "cell_type": "code",
   "execution_count": 2,
   "metadata": {},
   "outputs": [],
   "source": [
    "train = pd.read_csv('Dataset UNSW15/UNSW_NB15_testing-set.csv')\n",
    "test = pd.read_csv('Dataset UNSW15/UNSW_NB15_training-set.csv')"
   ]
  },
  {
   "cell_type": "markdown",
   "metadata": {},
   "source": [
    "### Data Pre-processing"
   ]
  },
  {
   "cell_type": "code",
   "execution_count": 3,
   "metadata": {},
   "outputs": [],
   "source": [
    "# combine train and test data\n",
    "data = pd.concat([train,test]).reset_index(drop=True)\n",
    "\n",
    "# Splitting the data into categorical and numerical columns\n",
    "cols_cat = data.select_dtypes('object').columns \n",
    "cols_numeric = data._get_numeric_data().columns"
   ]
  },
  {
   "cell_type": "code",
   "execution_count": 4,
   "metadata": {},
   "outputs": [
    {
     "data": {
      "text/plain": [
       "label\n",
       "1    164673\n",
       "0     93000\n",
       "Name: count, dtype: int64"
      ]
     },
     "execution_count": 4,
     "metadata": {},
     "output_type": "execute_result"
    }
   ],
   "source": [
    "data['label'].value_counts()"
   ]
  },
  {
   "cell_type": "code",
   "execution_count": 5,
   "metadata": {},
   "outputs": [],
   "source": [
    "def Remove_dump_values(data, cols):\n",
    "    for col in cols:\n",
    "        # replace all values with '-' to 'None'\n",
    "        data[col] = np.where(data[col] == '-', 'None', data[col])\n",
    "    return data"
   ]
  },
  {
   "cell_type": "code",
   "execution_count": 6,
   "metadata": {},
   "outputs": [],
   "source": [
    "cols = data.columns\n",
    "# Remove the dump values\n",
    "data_bin = Remove_dump_values(data, cols)\n",
    "# remvoe the id column\n",
    "data_bin = data_bin.drop(['id'], axis=1)\n",
    "data_bin_attackcat = data_bin[['attack_cat']]"
   ]
  },
  {
   "cell_type": "code",
   "execution_count": 7,
   "metadata": {},
   "outputs": [],
   "source": [
    "# ordinal encode attack category\n",
    "from sklearn.preprocessing import OrdinalEncoder\n",
    "oe = OrdinalEncoder(categories='auto')\n",
    "oe.fit(data_bin_attackcat)\n",
    "data_bin_attackcat = oe.transform(data_bin_attackcat)"
   ]
  },
  {
   "cell_type": "code",
   "execution_count": 8,
   "metadata": {},
   "outputs": [],
   "source": [
    "data_bin.drop(['attack_cat'], axis=1, inplace=True)\n",
    "cols_cat = cols_cat.drop(['attack_cat'])\n",
    "\n",
    "#  one hot encode the categorical columns and concat with the numerical columns\n",
    "data_bin_hot = pd.get_dummies(data_bin,columns=cols_cat)\n",
    "attack_cat_df = pd.DataFrame(data_bin_attackcat, columns=['attack_cat'])\n",
    "data_bin_hot2 = pd.concat([data_bin_hot,attack_cat_df],axis=1, join='inner',ignore_index=False)"
   ]
  },
  {
   "cell_type": "code",
   "execution_count": 9,
   "metadata": {},
   "outputs": [],
   "source": [
    "cols_numeric = list(cols_numeric)\n",
    "cols_numeric.remove('label')\n",
    "cols_numeric.remove('id')"
   ]
  },
  {
   "cell_type": "code",
   "execution_count": 10,
   "metadata": {},
   "outputs": [],
   "source": [
    "# convert the numerical columns to float and normalize the data\n",
    "data_bin_hot2[cols_numeric] = data_bin_hot2[cols_numeric].astype('float') \n",
    "data_bin_hot2[cols_numeric] = (data_bin_hot2[cols_numeric] - np.min(data_bin_hot2[cols_numeric])) / np.std(data_bin_hot2[cols_numeric])"
   ]
  },
  {
   "cell_type": "code",
   "execution_count": 11,
   "metadata": {},
   "outputs": [
    {
     "data": {
      "text/plain": [
       "attack_cat\n",
       "6.0    93000\n",
       "5.0    58871\n",
       "3.0    44525\n",
       "4.0    24246\n",
       "2.0    16353\n",
       "7.0    13987\n",
       "0.0     2677\n",
       "1.0     2329\n",
       "8.0     1511\n",
       "9.0      174\n",
       "Name: count, dtype: int64"
      ]
     },
     "execution_count": 11,
     "metadata": {},
     "output_type": "execute_result"
    }
   ],
   "source": [
    "data_bin_hot2['attack_cat'].value_counts() "
   ]
  },
  {
   "cell_type": "code",
   "execution_count": 12,
   "metadata": {},
   "outputs": [
    {
     "data": {
      "text/plain": [
       "attack_cat\n",
       "6.0    93000\n",
       "1.0    93000\n",
       "0.0    93000\n",
       "4.0    93000\n",
       "8.0    93000\n",
       "7.0    93000\n",
       "3.0    93000\n",
       "2.0    93000\n",
       "9.0    93000\n",
       "5.0    93000\n",
       "Name: count, dtype: int64"
      ]
     },
     "execution_count": 12,
     "metadata": {},
     "output_type": "execute_result"
    }
   ],
   "source": [
    "# oversample minority types, which are all attack types other then normal using SMOTE\n",
    "from imblearn.over_sampling import SMOTE\n",
    "sm = SMOTE(random_state=42)\n",
    "X = data_bin_hot2.drop('attack_cat', axis=1)\n",
    "y = data_bin_hot2['attack_cat']\n",
    "X_res, y_res = sm.fit_resample(X, y)\n",
    "\n",
    "# convert to dataframe\n",
    "X_res = pd.DataFrame(X_res, columns=X.columns)\n",
    "y_res = pd.DataFrame(y_res, columns=['attack_cat'])\n",
    "\n",
    "# concatenate X_res and y_res\n",
    "data_balanced = pd.concat([X_res, y_res], axis=1)\n",
    "\n",
    "# check new class counts\n",
    "data_balanced['attack_cat'].value_counts()"
   ]
  },
  {
   "cell_type": "code",
   "execution_count": 13,
   "metadata": {},
   "outputs": [],
   "source": [
    "# save the balanced data\n",
    "data_balanced.to_csv('UNSW_NB15_balanced_smote.csv', index=False)"
   ]
  }
 ],
 "metadata": {
  "kernelspec": {
   "display_name": "Python 3",
   "language": "python",
   "name": "python3"
  },
  "language_info": {
   "codemirror_mode": {
    "name": "ipython",
    "version": 3
   },
   "file_extension": ".py",
   "mimetype": "text/x-python",
   "name": "python",
   "nbconvert_exporter": "python",
   "pygments_lexer": "ipython3",
   "version": "3.10.11"
  }
 },
 "nbformat": 4,
 "nbformat_minor": 2
}
