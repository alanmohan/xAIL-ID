{
 "cells": [
  {
   "cell_type": "code",
   "execution_count": null,
   "metadata": {},
   "outputs": [],
   "source": [
    "import pandas as pd\n",
    "import numpy as np\n",
    "import pandas as pd\n",
    "import numpy as np\n",
    "import matplotlib.pyplot as plt \n",
    "import time"
   ]
  },
  {
   "cell_type": "code",
   "execution_count": 13,
   "metadata": {},
   "outputs": [],
   "source": [
    "# load the balanced data\n",
    "data_balanced = pd.read_csv('UNSW_NB15_balanced_smote.csv')"
   ]
  },
  {
   "cell_type": "code",
   "execution_count": 13,
   "metadata": {},
   "outputs": [],
   "source": [
    "df = data_balanced.copy()\n",
    "df = df.drop(['attack_cat'], axis=1)"
   ]
  },
  {
   "cell_type": "markdown",
   "metadata": {},
   "source": [
    "### LSTM Model for Binary Classification"
   ]
  },
  {
   "cell_type": "code",
   "execution_count": 14,
   "metadata": {},
   "outputs": [
    {
     "name": "stdout",
     "output_type": "stream",
     "text": [
      "Epoch 1/10\n",
      "23250/23250 [==============================] - 42s 2ms/step - loss: 0.0953 - accuracy: 0.9691 - val_loss: 0.0842 - val_accuracy: 0.9702\n",
      "Epoch 2/10\n",
      "23250/23250 [==============================] - 40s 2ms/step - loss: 0.0818 - accuracy: 0.9707 - val_loss: 0.0795 - val_accuracy: 0.9704\n",
      "Epoch 3/10\n",
      "23250/23250 [==============================] - 43s 2ms/step - loss: 0.0783 - accuracy: 0.9710 - val_loss: 0.0771 - val_accuracy: 0.9705\n",
      "Epoch 4/10\n",
      "23250/23250 [==============================] - 41s 2ms/step - loss: 0.0764 - accuracy: 0.9711 - val_loss: 0.0762 - val_accuracy: 0.9706\n",
      "Epoch 5/10\n",
      "23250/23250 [==============================] - 40s 2ms/step - loss: 0.0752 - accuracy: 0.9711 - val_loss: 0.0751 - val_accuracy: 0.9706\n",
      "Epoch 6/10\n",
      "23250/23250 [==============================] - 41s 2ms/step - loss: 0.0742 - accuracy: 0.9712 - val_loss: 0.0730 - val_accuracy: 0.9709\n",
      "Epoch 7/10\n",
      "23250/23250 [==============================] - 45s 2ms/step - loss: 0.0734 - accuracy: 0.9713 - val_loss: 0.0745 - val_accuracy: 0.9711\n",
      "Epoch 8/10\n",
      "23250/23250 [==============================] - 41s 2ms/step - loss: 0.0727 - accuracy: 0.9714 - val_loss: 0.0720 - val_accuracy: 0.9711\n",
      "Epoch 9/10\n",
      "23250/23250 [==============================] - 41s 2ms/step - loss: 0.0721 - accuracy: 0.9714 - val_loss: 0.0719 - val_accuracy: 0.9711\n",
      "Epoch 10/10\n",
      "23250/23250 [==============================] - 41s 2ms/step - loss: 0.0717 - accuracy: 0.9715 - val_loss: 0.0711 - val_accuracy: 0.9709\n",
      "Time taken to train the model:  414.46020102500916\n"
     ]
    }
   ],
   "source": [
    "# train an lstm model on the data\n",
    "from keras.models import Sequential\n",
    "from keras.layers import Dense, LSTM, Dropout, Activation\n",
    "from keras.optimizers import Adam\n",
    "from keras.callbacks import EarlyStopping\n",
    "from sklearn import model_selection\n",
    "from sklearn import metrics\n",
    "X = df.drop('label', axis=1)\n",
    "Y = df['label']\n",
    "\n",
    "from sklearn.model_selection import train_test_split\n",
    "X_train, X_test, Y_train, Y_test = train_test_split(X,Y, test_size = 0.2, random_state = 42)\n",
    "\n",
    "# convert Y to int\n",
    "Y_train = Y_train.astype(int)\n",
    "Y_test = Y_test.astype(int)\n",
    "\n",
    "# reshape the data for LSTM\n",
    "X_train = X_train.values.reshape((X_train.shape[0], 1, X_train.shape[1]))\n",
    "X_test = X_test.values.reshape((X_test.shape[0], 1, X_test.shape[1]))\n",
    "\n",
    "# convert all to numpy arrays\n",
    "X_train = np.asarray(X_train).astype(np.float32)\n",
    "X_test = np.asarray(X_test).astype(np.float32)\n",
    "\n",
    "\n",
    "# define the model\n",
    "model = Sequential()\n",
    "model.add(LSTM(64, input_shape=(X_train.shape[1], X_train.shape[2]), return_sequences=True, activation='sigmoid'))\n",
    "model.add(Dropout(0.1))\n",
    "model.add(LSTM(64, return_sequences=True))\n",
    "model.add(Dropout(0.1))\n",
    "model.add(LSTM(64))\n",
    "model.add(Dropout(0.1))\n",
    "model.add(Dense(1, activation='sigmoid'))\n",
    "\n",
    "# compile the model\n",
    "model.compile(optimizer='adam', loss='binary_crossentropy', metrics=['accuracy'])\n",
    "start = time.time()\n",
    "# train the model\n",
    "history = model.fit(X_train, Y_train, epochs=10, batch_size=32, validation_data=(X_test, Y_test), shuffle=True)\n",
    "end = time.time()\n",
    "print(\"Time taken to train the model: \", end - start)"
   ]
  },
  {
   "cell_type": "code",
   "execution_count": 16,
   "metadata": {},
   "outputs": [
    {
     "name": "stdout",
     "output_type": "stream",
     "text": [
      "5813/5813 [==============================] - 4s 613us/step\n",
      "Classification Report\n",
      "              precision    recall  f1-score   support\n",
      "\n",
      "           0     0.9920    0.7165    0.8320     18731\n",
      "           1     0.9692    0.9994    0.9840    167269\n",
      "\n",
      "    accuracy                         0.9709    186000\n",
      "   macro avg     0.9806    0.8579    0.9080    186000\n",
      "weighted avg     0.9715    0.9709    0.9687    186000\n",
      "\n",
      "Accuracy:\n",
      "0.9708655913978494\n",
      "Time taken to predict:  4.248834133148193\n"
     ]
    }
   ],
   "source": [
    "start_time = time.time()    \n",
    "y_pred = model.predict(X_test)\n",
    "end_time = time.time()\n",
    "y_pred = (y_pred > 0.5)\n",
    "print('Classification Report')\n",
    "print(metrics.classification_report(Y_test, y_pred, digits = 4))\n",
    "print('Accuracy:')\n",
    "print(metrics.accuracy_score(Y_test, y_pred))\n",
    "print('Time taken to predict: ', end_time - start_time)"
   ]
  },
  {
   "cell_type": "code",
   "execution_count": 18,
   "metadata": {},
   "outputs": [
    {
     "name": "stderr",
     "output_type": "stream",
     "text": [
      "/Library/Frameworks/Python.framework/Versions/3.8/lib/python3.8/site-packages/keras/src/engine/training.py:3000: UserWarning: You are saving your model as an HDF5 file via `model.save()`. This file format is considered legacy. We recommend using instead the native Keras format, e.g. `model.save('my_model.keras')`.\n",
      "  saving_api.save_model(\n"
     ]
    }
   ],
   "source": [
    "# save the model\n",
    "model.save('unsw_binary_lstm_smote.h5')"
   ]
  },
  {
   "cell_type": "markdown",
   "metadata": {},
   "source": [
    "#### Cross Validation for binary LSTM Model"
   ]
  },
  {
   "cell_type": "code",
   "execution_count": null,
   "metadata": {},
   "outputs": [],
   "source": [
    "from scikeras.wrappers import KerasClassifier\n",
    "from sklearn.model_selection import cross_val_score\n",
    "from sklearn.model_selection import KFold\n",
    "from sklearn.pipeline import Pipeline\n",
    "\n",
    "\n",
    "def get_model():\n",
    "    # define the model\n",
    "    model = Sequential()\n",
    "    model.add(LSTM(64, input_shape=(X_train.shape[1], X_train.shape[2]), return_sequences=True, activation='relu'))\n",
    "    model.add(Dropout(0.1))\n",
    "    model.add(LSTM(64, return_sequences=True, activation='relu'))\n",
    "    model.add(Dropout(0.1))\n",
    "    model.add(LSTM(64, activation='relu'))\n",
    "    model.add(Dropout(0.1))\n",
    "    model.add(Dense(1, activation='sigmoid'))\n",
    "\n",
    "    # compile the model\n",
    "    model.compile(optimizer='adam', loss='binary_crossentropy', metrics=['accuracy'])\n",
    "    return model\n",
    "\n",
    "estimator = KerasClassifier(build_fn=get_model, epochs=10, batch_size=32, verbose=0)\n",
    "kfold = KFold(n_splits=10, shuffle=True)\n",
    "\n",
    "X = df.drop('label', axis=1)\n",
    "Y = df[['label']]\n",
    "\n",
    "X_fit = X.values.reshape(X.shape[0],1 ,X.shape[1])\n",
    "Y['label'] = Y['label'].astype('int')\n",
    "\n",
    "results = cross_val_score(estimator, X_fit, Y, cv=kfold)\n",
    "print(\"Accuracy: %.5f%%\" % (results.mean()*100))"
   ]
  }
 ],
 "metadata": {
  "kernelspec": {
   "display_name": "Python 3",
   "language": "python",
   "name": "python3"
  },
  "language_info": {
   "codemirror_mode": {
    "name": "ipython",
    "version": 3
   },
   "file_extension": ".py",
   "mimetype": "text/x-python",
   "name": "python",
   "nbconvert_exporter": "python",
   "pygments_lexer": "ipython3",
   "version": "3.10.11"
  }
 },
 "nbformat": 4,
 "nbformat_minor": 2
}
