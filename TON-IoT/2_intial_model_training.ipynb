{
 "cells": [
  {
   "cell_type": "code",
   "execution_count": 1,
   "metadata": {},
   "outputs": [],
   "source": [
    "import pandas as pd\n",
    "import numpy as np\n",
    "import matplotlib.pyplot as plt \n",
    "from sklearn.feature_selection import SelectKBest\n",
    "from sklearn.feature_selection import chi2\n",
    "\n",
    "from scipy.stats import spearmanr\n",
    "from sklearn.tree import DecisionTreeClassifier\n",
    "from sklearn.metrics import matthews_corrcoef\n",
    "from sklearn.model_selection import train_test_split\n",
    "from sklearn.metrics import classification_report, accuracy_score\n",
    "from sklearn.utils import resample\n",
    "from keras.models import Sequential\n",
    "from keras.layers import Dense, LSTM, Dropout"
   ]
  },
  {
   "cell_type": "code",
   "execution_count": 44,
   "metadata": {},
   "outputs": [],
   "source": [
    "# load balanced data\n",
    "data_balanced = pd.read_csv('ToN-IoT_balanced_smote.csv')"
   ]
  },
  {
   "cell_type": "code",
   "execution_count": 16,
   "metadata": {},
   "outputs": [
    {
     "name": "stdout",
     "output_type": "stream",
     "text": [
      "Epoch 1/10\n",
      "75000/75000 [==============================] - 117s 2ms/step - loss: 0.0776 - accuracy: 0.9776 - val_loss: 0.0590 - val_accuracy: 0.9838\n",
      "Epoch 2/10\n",
      "75000/75000 [==============================] - 115s 2ms/step - loss: 0.0636 - accuracy: 0.9826 - val_loss: 0.0589 - val_accuracy: 0.9827\n",
      "Epoch 3/10\n",
      "75000/75000 [==============================] - 115s 2ms/step - loss: 0.0610 - accuracy: 0.9836 - val_loss: 0.0549 - val_accuracy: 0.9845\n",
      "Epoch 4/10\n",
      "75000/75000 [==============================] - 121s 2ms/step - loss: 0.0595 - accuracy: 0.9846 - val_loss: 0.0520 - val_accuracy: 0.9859\n",
      "Epoch 5/10\n",
      "75000/75000 [==============================] - 116s 2ms/step - loss: 0.0601 - accuracy: 0.9854 - val_loss: 0.0526 - val_accuracy: 0.9864\n",
      "Epoch 6/10\n",
      "75000/75000 [==============================] - 115s 2ms/step - loss: 0.0629 - accuracy: 0.9859 - val_loss: 0.0511 - val_accuracy: 0.9860\n",
      "Epoch 7/10\n",
      "75000/75000 [==============================] - 112s 1ms/step - loss: 0.0578 - accuracy: 0.9861 - val_loss: 0.0479 - val_accuracy: 0.9875\n",
      "Epoch 8/10\n",
      "75000/75000 [==============================] - 112s 1ms/step - loss: 0.0568 - accuracy: 0.9862 - val_loss: 0.0533 - val_accuracy: 0.9852\n",
      "Epoch 9/10\n",
      "75000/75000 [==============================] - 112s 1ms/step - loss: 0.0611 - accuracy: 0.9862 - val_loss: 0.0547 - val_accuracy: 0.9864\n",
      "Epoch 10/10\n",
      "75000/75000 [==============================] - 112s 1ms/step - loss: 0.0672 - accuracy: 0.9863 - val_loss: 0.0514 - val_accuracy: 0.9863\n",
      "Time taken to train the model:  1148.965448141098\n"
     ]
    }
   ],
   "source": [
    "# train an lstm model on the data\n",
    "from keras.models import Sequential\n",
    "from keras.layers import Dense, LSTM, Dropout, Activation\n",
    "from keras.optimizers import Adam\n",
    "from keras.callbacks import EarlyStopping\n",
    "from sklearn import model_selection\n",
    "from sklearn import metrics\n",
    "import time\n",
    "X = data_balanced.drop(['label','type'], axis=1)\n",
    "Y = data_balanced['label']\n",
    "\n",
    "from sklearn.model_selection import train_test_split\n",
    "X_train, X_test, Y_train, Y_test = train_test_split(X,Y, test_size = 0.2, random_state = 42)\n",
    "\n",
    "# convert Y to int\n",
    "Y_train = Y_train.astype(int)\n",
    "Y_test = Y_test.astype(int)\n",
    "\n",
    "# reshape the data for LSTM\n",
    "X_train = X_train.values.reshape((X_train.shape[0], 1, X_train.shape[1]))\n",
    "X_test = X_test.values.reshape((X_test.shape[0], 1, X_test.shape[1]))\n",
    "\n",
    "# convert all to numpy arrays\n",
    "X_train = np.asarray(X_train).astype(np.float32)\n",
    "# Y_train = np.asarray(Y_train).astype(np.float32)\n",
    "X_test = np.asarray(X_test).astype(np.float32)\n",
    "# Y_test = np.asarray(Y_test).astype(np.float32)\n",
    "\n",
    "# define the model and add recurrent dropout\n",
    "model = Sequential()\n",
    "model.add(LSTM(64, input_shape=(X_train.shape[1], X_train.shape[2]), return_sequences=True, activation = 'relu'))\n",
    "model.add(Dropout(0.1))\n",
    "model.add(LSTM(64, return_sequences=True, activation = 'relu'))\n",
    "model.add(Dropout(0.1))\n",
    "model.add(LSTM(64, activation = 'relu'))\n",
    "model.add(Dropout(0.1))\n",
    "model.add(Dense(1, activation='sigmoid'))\n",
    "\n",
    "# compile the model\n",
    "model.compile(optimizer='adam', loss='binary_crossentropy', metrics=['accuracy'])\n",
    "\n",
    "# train the model\n",
    "start = time.time()\n",
    "history = model.fit(X_train, Y_train, epochs=10, batch_size=32, validation_data=(X_test, Y_test), shuffle=True)\n",
    "end = time.time()\n",
    "print(\"Time taken to train the model: \", end-start)"
   ]
  },
  {
   "cell_type": "code",
   "execution_count": 17,
   "metadata": {},
   "outputs": [
    {
     "name": "stdout",
     "output_type": "stream",
     "text": [
      "18750/18750 [==============================] - 9s 489us/step\n",
      "Classification Report\n",
      "              precision    recall  f1-score   support\n",
      "\n",
      "           0       0.98      0.88      0.93     59762\n",
      "           1       0.99      1.00      0.99    540238\n",
      "\n",
      "    accuracy                           0.99    600000\n",
      "   macro avg       0.98      0.94      0.96    600000\n",
      "weighted avg       0.99      0.99      0.99    600000\n",
      "\n",
      "Accuracy:\n",
      "0.9863066666666667\n",
      "Time taken to predict: 12.159243106842041 seconds\n"
     ]
    }
   ],
   "source": [
    "start_time = time.time()\n",
    "y_pred = model.predict(X_test)\n",
    "end_time = time.time()\n",
    "y_pred = (y_pred > 0.5)\n",
    "print('Classification Report')\n",
    "print(metrics.classification_report(Y_test, y_pred))\n",
    "print('Accuracy:')\n",
    "print(metrics.accuracy_score(Y_test, y_pred))\n",
    "print('Time taken to predict: {} seconds'.format(end_time - start_time))"
   ]
  },
  {
   "cell_type": "code",
   "execution_count": 40,
   "metadata": {},
   "outputs": [],
   "source": [
    "# save model\n",
    "model.save('ton_bin_lstm_smote.h5')"
   ]
  }
 ],
 "metadata": {
  "kernelspec": {
   "display_name": "Python 3",
   "language": "python",
   "name": "python3"
  },
  "language_info": {
   "codemirror_mode": {
    "name": "ipython",
    "version": 3
   },
   "file_extension": ".py",
   "mimetype": "text/x-python",
   "name": "python",
   "nbconvert_exporter": "python",
   "pygments_lexer": "ipython3",
   "version": "3.8.10"
  }
 },
 "nbformat": 4,
 "nbformat_minor": 2
}
