{
 "cells": [
  {
   "cell_type": "code",
   "execution_count": 1,
   "metadata": {},
   "outputs": [],
   "source": [
    "import pandas as pd\n",
    "import numpy as np\n",
    "import pandas as pd\n",
    "import numpy as np\n",
    "import matplotlib.pyplot as plt \n",
    "from sklearn.feature_selection import SelectKBest\n",
    "from sklearn.feature_selection import chi2\n",
    "from sklearn.datasets import load_iris\n",
    "from scipy.stats import spearmanr\n",
    "from sklearn.tree import DecisionTreeClassifier\n",
    "from sklearn.metrics import matthews_corrcoef\n",
    "from sklearn.model_selection import train_test_split\n",
    "from sklearn.metrics import classification_report, confusion_matrix, accuracy_score\n",
    "import time"
   ]
  },
  {
   "cell_type": "markdown",
   "metadata": {},
   "source": [
    "READING NSL-KDD DATASET AND CHECKING FOR CLASS IMBALANCE"
   ]
  },
  {
   "cell_type": "code",
   "execution_count": 2,
   "metadata": {},
   "outputs": [],
   "source": [
    "df = pd.read_csv('KDDTrain+.csv')\n",
    "# replace normal with 0 and anomaly with 1\n",
    "df['class'] = df['class'].replace(['normal'], 0)\n",
    "df['class'] = df['class'].replace(['anomaly'], 1)"
   ]
  },
  {
   "cell_type": "markdown",
   "metadata": {},
   "source": [
    "CLEAINING AND PRE-PROCESSING OF THE DATASET"
   ]
  },
  {
   "cell_type": "markdown",
   "metadata": {},
   "source": [
    "- NORMALIZING FUNCTION CREATION "
   ]
  },
  {
   "cell_type": "code",
   "execution_count": 3,
   "metadata": {},
   "outputs": [],
   "source": [
    "def normalize (df, exclude=[]):\n",
    "    for col in df.columns:\n",
    "        if col not in exclude:\n",
    "            # use min-max normalization\n",
    "            df[col] = (df[col] - df[col].min()) / (df[col].std())\n",
    "    return df"
   ]
  },
  {
   "cell_type": "markdown",
   "metadata": {},
   "source": [
    "- EXCLUDING FEATURES THAT CANNOT BE NORMALIZED AND NORMALIZING OTHERS"
   ]
  },
  {
   "cell_type": "code",
   "execution_count": 4,
   "metadata": {},
   "outputs": [],
   "source": [
    "exclude = ['class', 'protocol_type', 'service', 'flag', 'land', 'logged_in', 'is_host_login', 'is_guest_login','type']\n",
    "df = normalize(df, exclude)"
   ]
  },
  {
   "cell_type": "markdown",
   "metadata": {},
   "source": [
    "- ASSIGNING VALUES TO STRING TYPE FEATURES\n",
    "    - PROTOCOL_TYPE\n",
    "    - SERVICE\n",
    "    - FLAG\n",
    "- DROPPING NAN TYPE FEATURE(NUM_OUTBOUND_CMD)"
   ]
  },
  {
   "cell_type": "code",
   "execution_count": 5,
   "metadata": {},
   "outputs": [],
   "source": [
    "# assign 0 to tcp, 1 to udp, 2 to icmp\n",
    "df['protocol_type'] = df['protocol_type'].replace(['tcp'], 0)\n",
    "df['protocol_type'] = df['protocol_type'].replace(['udp'], 1)\n",
    "df['protocol_type'] = df['protocol_type'].replace(['icmp'], 2)\n",
    "\n",
    "# assign values to service\n",
    "service = df['service'].unique()\n",
    "service = np.sort(service)\n",
    "service = service.tolist()\n",
    "for i in range(len(service)):\n",
    "    df['service'] = df['service'].replace([service[i]], i)\n",
    "# assign values to flag\n",
    "flag = df['flag'].unique()\n",
    "flag = np.sort(flag)\n",
    "flag = flag.tolist()\n",
    "for i in range(len(flag)):\n",
    "    df['flag'] = df['flag'].replace([flag[i]], i)\n",
    "exclude.remove('type')\n",
    "for i in exclude:\n",
    "    df[i] = df[i].astype('int64')\n",
    "\n",
    "cols = df.columns.tolist()\n",
    "\n",
    "# remove num_outbound_cmds from df as it has NaN values\n",
    "df = df.drop('num_outbound_cmds', axis=1)\n",
    "ef = df.copy()"
   ]
  },
  {
   "cell_type": "code",
   "execution_count": 6,
   "metadata": {},
   "outputs": [],
   "source": [
    "ef.drop('type', axis=1, inplace=True)"
   ]
  },
  {
   "cell_type": "markdown",
   "metadata": {},
   "source": [
    "USING CHI-SQUARED STATISTIC TO GET THE TOP 20 FEATURES(TO COMPARE IT WITH SCC), PRINTING THE WORST 6 FEATURES TO BE REMOVED"
   ]
  },
  {
   "cell_type": "code",
   "execution_count": 7,
   "metadata": {},
   "outputs": [
    {
     "name": "stdout",
     "output_type": "stream",
     "text": [
      "['duration', 'protocol_type', 'src_bytes', 'dst_bytes', 'land', 'urgent', 'hot', 'num_failed_logins', 'num_compromised', 'root_shell', 'su_attempted', 'num_root', 'num_file_creations', 'num_shells', 'num_access_files', 'is_host_login', 'is_guest_login', 'srv_count', 'srv_diff_host_rate', 'dst_host_same_src_port_rate', 'dst_host_srv_diff_host_rate']\n"
     ]
    }
   ],
   "source": [
    "cols = ef.columns.tolist()\n",
    "selector = SelectKBest(score_func=chi2, k=20)\n",
    "X_new = selector.fit_transform(ef, ef['class'])\n",
    "selected_features_indices = np.where(selector.get_support())[0]\n",
    "sel_col = []\n",
    "for i in range(41):\n",
    "    if i not in selected_features_indices:\n",
    "        sel_col.append(cols[i])\n",
    "print(sel_col)"
   ]
  },
  {
   "cell_type": "markdown",
   "metadata": {},
   "source": [
    "REMOVING THE FEATURES"
   ]
  },
  {
   "cell_type": "code",
   "execution_count": 31,
   "metadata": {},
   "outputs": [],
   "source": [
    "ef.drop(['protocol_type', 'src_bytes', 'dst_bytes', 'land', 'wrong_fragment', 'urgent', 'hot', 'num_failed_logins', 'num_compromised', 'root_shell', 'su_attempted', 'num_root', 'num_file_creations', 'num_shells', 'num_access_files', 'is_host_login', 'is_guest_login', 'srv_count', 'dst_host_same_src_port_rate', 'dst_host_srv_diff_host_rate','duration'], axis=1, inplace=True)"
   ]
  },
  {
   "cell_type": "code",
   "execution_count": 38,
   "metadata": {},
   "outputs": [],
   "source": [
    "# save processed data to csv\n",
    "ef.to_csv('kdd_processed_bin.csv', index=False)\n"
   ]
  }
 ],
 "metadata": {
  "kernelspec": {
   "display_name": "Python 3",
   "language": "python",
   "name": "python3"
  },
  "language_info": {
   "codemirror_mode": {
    "name": "ipython",
    "version": 3
   },
   "file_extension": ".py",
   "mimetype": "text/x-python",
   "name": "python",
   "nbconvert_exporter": "python",
   "pygments_lexer": "ipython3",
   "version": "3.8.10"
  }
 },
 "nbformat": 4,
 "nbformat_minor": 2
}
