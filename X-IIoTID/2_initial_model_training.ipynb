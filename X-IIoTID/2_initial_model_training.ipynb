{
 "cells": [
  {
   "cell_type": "code",
   "execution_count": 1,
   "metadata": {},
   "outputs": [],
   "source": [
    "import pandas as pd\n",
    "import numpy as np\n",
    "import pandas as pd\n",
    "import numpy as np\n",
    "from sklearn.metrics import matthews_corrcoef\n",
    "from sklearn.model_selection import train_test_split\n",
    "from sklearn.metrics import classification_report, confusion_matrix, accuracy_score\n",
    "import time\n",
    "import klib"
   ]
  },
  {
   "cell_type": "code",
   "execution_count": 26,
   "metadata": {},
   "outputs": [],
   "source": [
    "# load processed dataset\n",
    "data_bin_hot2 = pd.read_csv('X-IIoTID dataset_processed.csv')"
   ]
  },
  {
   "cell_type": "markdown",
   "metadata": {},
   "source": [
    "### LSTM Model for Binary Classification"
   ]
  },
  {
   "cell_type": "code",
   "execution_count": 16,
   "metadata": {},
   "outputs": [
    {
     "name": "stdout",
     "output_type": "stream",
     "text": [
      "Epoch 1/10\n",
      "14901/14901 [==============================] - 34s 2ms/step - loss: 0.0734 - accuracy: 0.9765 - val_loss: 0.0540 - val_accuracy: 0.9809\n",
      "Epoch 2/10\n",
      "14901/14901 [==============================] - 33s 2ms/step - loss: 0.0558 - accuracy: 0.9802 - val_loss: 0.0474 - val_accuracy: 0.9814\n",
      "Epoch 3/10\n",
      "14901/14901 [==============================] - 33s 2ms/step - loss: 0.0500 - accuracy: 0.9809 - val_loss: 0.0456 - val_accuracy: 0.9823\n",
      "Epoch 4/10\n",
      "14901/14901 [==============================] - 30s 2ms/step - loss: 0.0471 - accuracy: 0.9815 - val_loss: 0.0428 - val_accuracy: 0.9834\n",
      "Epoch 5/10\n",
      "14901/14901 [==============================] - 30s 2ms/step - loss: 0.0452 - accuracy: 0.9822 - val_loss: 0.0411 - val_accuracy: 0.9830\n",
      "Epoch 6/10\n",
      "14901/14901 [==============================] - 30s 2ms/step - loss: 0.0442 - accuracy: 0.9826 - val_loss: 0.0402 - val_accuracy: 0.9839\n",
      "Epoch 7/10\n",
      "14901/14901 [==============================] - 30s 2ms/step - loss: 0.0431 - accuracy: 0.9828 - val_loss: 0.0378 - val_accuracy: 0.9851\n",
      "Epoch 8/10\n",
      "14901/14901 [==============================] - 30s 2ms/step - loss: 0.0422 - accuracy: 0.9833 - val_loss: 0.0408 - val_accuracy: 0.9838\n",
      "Epoch 9/10\n",
      "14901/14901 [==============================] - 32s 2ms/step - loss: 0.0416 - accuracy: 0.9834 - val_loss: 0.0394 - val_accuracy: 0.9850\n",
      "Epoch 10/10\n",
      "14901/14901 [==============================] - 29s 2ms/step - loss: 0.0408 - accuracy: 0.9838 - val_loss: 0.0385 - val_accuracy: 0.9854\n",
      "Time taken to train the model:  311.6183590888977\n"
     ]
    }
   ],
   "source": [
    "from keras.models import Sequential\n",
    "from keras.layers import Dense, LSTM, Dropout\n",
    "from sklearn import metrics\n",
    "\n",
    "# Drop last 18 columns for X and remove class3\n",
    "X = (data_bin_hot2.iloc[:,:-18]).drop(columns = ['class3'], axis=1)\n",
    "Y = data_bin_hot2['class3']\n",
    "\n",
    "\n",
    "from sklearn.model_selection import train_test_split\n",
    "X_train, X_test, Y_train, Y_test = train_test_split(X,Y, test_size = 0.2, random_state = 42)\n",
    "\n",
    "# convert Y to int\n",
    "Y_train = Y_train.astype(int)\n",
    "Y_test = Y_test.astype(int)\n",
    "\n",
    "# reshape the data for LSTM\n",
    "X_train = X_train.values.reshape((X_train.shape[0], 1, X_train.shape[1]))\n",
    "X_test = X_test.values.reshape((X_test.shape[0], 1, X_test.shape[1]))\n",
    "\n",
    "# convert all to numpy arrays\n",
    "X_train = np.asarray(X_train).astype(np.float32)\n",
    "X_test = np.asarray(X_test).astype(np.float32)\n",
    "\n",
    "\n",
    "# define the model\n",
    "model = Sequential()\n",
    "model.add(LSTM(64, input_shape=(X_train.shape[1], X_train.shape[2]), return_sequences=True))\n",
    "model.add(Dropout(0.1))\n",
    "model.add(LSTM(64, return_sequences=True))\n",
    "model.add(Dropout(0.1))\n",
    "model.add(LSTM(64))\n",
    "model.add(Dropout(0.1))\n",
    "model.add(Dense(1, activation='sigmoid'))\n",
    "\n",
    "# compile the model\n",
    "model.compile(optimizer='adam', loss='binary_crossentropy', metrics=['accuracy'])\n",
    "start = time.time()\n",
    "# train the model\n",
    "history = model.fit(X_train, Y_train, epochs=10, batch_size=32, validation_data=(X_test, Y_test), shuffle=True)\n",
    "end = time.time()\n",
    "print(\"Time taken to train the model: \", end - start)"
   ]
  },
  {
   "cell_type": "code",
   "execution_count": 18,
   "metadata": {},
   "outputs": [
    {
     "name": "stdout",
     "output_type": "stream",
     "text": [
      "3726/3726 [==============================] - 2s 614us/step\n",
      "Classification Report\n",
      "              precision    recall  f1-score   support\n",
      "\n",
      "           0       0.99      0.98      0.98     51897\n",
      "           1       0.98      0.99      0.99     67311\n",
      "\n",
      "    accuracy                           0.99    119208\n",
      "   macro avg       0.99      0.98      0.99    119208\n",
      "weighted avg       0.99      0.99      0.99    119208\n",
      "\n",
      "Accuracy:\n",
      "0.9854036641836118\n",
      "Time taken to predict:  2.838178873062134\n"
     ]
    }
   ],
   "source": [
    "start = time.time()\n",
    "y_pred = model.predict(X_test)\n",
    "end = time.time()\n",
    "y_pred = (y_pred > 0.5)\n",
    "print('Classification Report')\n",
    "print(metrics.classification_report(Y_test, y_pred))\n",
    "print('Accuracy:')\n",
    "print(metrics.accuracy_score(Y_test, y_pred))\n",
    "print(\"Time taken to predict: \", end - start)"
   ]
  },
  {
   "cell_type": "code",
   "execution_count": 30,
   "metadata": {},
   "outputs": [
    {
     "name": "stderr",
     "output_type": "stream",
     "text": [
      "/Library/Frameworks/Python.framework/Versions/3.8/lib/python3.8/site-packages/keras/src/engine/training.py:3000: UserWarning: You are saving your model as an HDF5 file via `model.save()`. This file format is considered legacy. We recommend using instead the native Keras format, e.g. `model.save('my_model.keras')`.\n",
      "  saving_api.save_model(\n"
     ]
    }
   ],
   "source": [
    "# save model\n",
    "model.save('X-IIoTID_lstm_bin.h5')"
   ]
  }
 ],
 "metadata": {
  "kernelspec": {
   "display_name": "venv",
   "language": "python",
   "name": "python3"
  },
  "language_info": {
   "codemirror_mode": {
    "name": "ipython",
    "version": 3
   },
   "file_extension": ".py",
   "mimetype": "text/x-python",
   "name": "python",
   "nbconvert_exporter": "python",
   "pygments_lexer": "ipython3",
   "version": "3.8.10"
  }
 },
 "nbformat": 4,
 "nbformat_minor": 2
}
